{
  "nbformat": 4,
  "nbformat_minor": 0,
  "metadata": {
    "colab": {
      "provenance": [],
      "authorship_tag": "ABX9TyNYVZEKNERa5+Levc1Jsgj5",
      "include_colab_link": true
    },
    "kernelspec": {
      "name": "python3",
      "display_name": "Python 3"
    },
    "language_info": {
      "name": "python"
    }
  },
  "cells": [
    {
      "cell_type": "markdown",
      "metadata": {
        "id": "view-in-github",
        "colab_type": "text"
      },
      "source": [
        "<a href=\"https://colab.research.google.com/github/Osmayda/Prediction-of-Product-Sales/blob/main/Copy_of_Untitled0.ipynb\" target=\"_parent\"><img src=\"https://colab.research.google.com/assets/colab-badge.svg\" alt=\"Open In Colab\"/></a>"
      ]
    },
    {
      "cell_type": "code",
      "execution_count": null,
      "metadata": {
        "id": "ccucbjJcQgJq"
      },
      "outputs": [],
      "source": [
        "#2)Run a code cell with the list of temparture date. This is the lists of Fahrenheit temps\n",
        "week_1 = [45, 55, 49, 60, 52, 55, 58]\n",
        "week_2 = [51, 49, 62, 50, 53, 56, 59]\n",
        "week_3 = [60, 60, 61, 62, 57, 59, 58]\n",
        "week_4 = [59, 63, 62, 61, 65, 66, 62]"
      ]
    },
    {
      "cell_type": "code",
      "source": [
        "#3) add the import you will need to find the mean, median, and mode."
      ],
      "metadata": {
        "id": "nddC_Rt-ecBL"
      },
      "execution_count": null,
      "outputs": []
    },
    {
      "cell_type": "code",
      "source": [
        "import numpy as np"
      ],
      "metadata": {
        "id": "Q0cBygFOQs8t"
      },
      "execution_count": null,
      "outputs": []
    },
    {
      "cell_type": "code",
      "source": [
        "from numpy import mean"
      ],
      "metadata": {
        "id": "6AdUWkwmRsxS"
      },
      "execution_count": null,
      "outputs": []
    },
    {
      "cell_type": "code",
      "source": [
        "from statistics import mode"
      ],
      "metadata": {
        "id": "aw9N6iXiSDba"
      },
      "execution_count": null,
      "outputs": []
    },
    {
      "cell_type": "code",
      "source": [
        "#4) Use functions from the imported packages to find the mean, median, and mode for the week_1 data."
      ],
      "metadata": {
        "id": "uoEufxYketH7"
      },
      "execution_count": null,
      "outputs": []
    },
    {
      "cell_type": "code",
      "source": [
        "# mean for week_ 1\n",
        "np.mean(week_1)"
      ],
      "metadata": {
        "colab": {
          "base_uri": "https://localhost:8080/"
        },
        "id": "6O4w_wN0RC7C",
        "outputId": "02b7c221-2136-47cc-d18b-ddf0723fd823"
      },
      "execution_count": null,
      "outputs": [
        {
          "output_type": "execute_result",
          "data": {
            "text/plain": [
              "53.42857142857143"
            ]
          },
          "metadata": {},
          "execution_count": 12
        }
      ]
    },
    {
      "cell_type": "code",
      "source": [
        "# median for week_ 1\n",
        "np.median(week_1)"
      ],
      "metadata": {
        "colab": {
          "base_uri": "https://localhost:8080/"
        },
        "id": "aO0ZMqBOR7Px",
        "outputId": "edb8c310-060b-48a4-d513-5ee3f1c32de1"
      },
      "execution_count": null,
      "outputs": [
        {
          "output_type": "execute_result",
          "data": {
            "text/plain": [
              "55.0"
            ]
          },
          "metadata": {},
          "execution_count": 13
        }
      ]
    },
    {
      "cell_type": "code",
      "source": [
        "# mode for week_ 1\n",
        "mode(week_1)"
      ],
      "metadata": {
        "colab": {
          "base_uri": "https://localhost:8080/"
        },
        "id": "i0DAL3PdSSNM",
        "outputId": "13430528-c1c0-4079-9f4a-cc4efff4403f"
      },
      "execution_count": null,
      "outputs": [
        {
          "output_type": "execute_result",
          "data": {
            "text/plain": [
              "55"
            ]
          },
          "metadata": {},
          "execution_count": 16
        }
      ]
    },
    {
      "cell_type": "code",
      "source": [
        "#5 custom function to return all three values in a single function call:\n",
        "def central_tendency(week_1):\n",
        "  mean_temp = np.mean(week_1)\n",
        "  median_temp = np.median(week_1)\n",
        "  mode_temp = mode(week_1)\n",
        "  return mean_temp, median_temp, mode_temp "
      ],
      "metadata": {
        "id": "_lombhHrScR3"
      },
      "execution_count": null,
      "outputs": []
    },
    {
      "cell_type": "code",
      "source": [
        "#6) Test the function on week_1 data.\n",
        "central_tendency(week_1)"
      ],
      "metadata": {
        "colab": {
          "base_uri": "https://localhost:8080/"
        },
        "id": "Efx-nAkMZbjA",
        "outputId": "999a57bd-abb4-46e7-ec95-c7c4f9e977da"
      },
      "execution_count": null,
      "outputs": [
        {
          "output_type": "execute_result",
          "data": {
            "text/plain": [
              "(53.42857142857143, 55.0, 55)"
            ]
          },
          "metadata": {},
          "execution_count": 26
        }
      ]
    },
    {
      "cell_type": "code",
      "source": [
        "#7) Modify the central_tendency function to include a keyword argument with the default set to verbose = True\n",
        "def central_tendency(week_1, verbose = True):\n",
        "  mean_temp = np.mean(week_1)\n",
        "  median_temp = np.median(week_1)\n",
        "  mode_temp = mode(week_1)\n",
        "  if verbose==True:\n",
        "    print(f'The mean is {mean_temp}. The median is {median_temp}. The mode is {mode_temp}.')\n",
        "  else:\n",
        "    return mean_temp, median_temp, mode_temp\n",
        "    \n"
      ],
      "metadata": {
        "id": "9GCpyK8faGHE"
      },
      "execution_count": null,
      "outputs": []
    },
    {
      "cell_type": "code",
      "source": [
        "#8) Test the function on week_2 with no argument for verbose included in the functional call (to test the default).\n",
        "central_tendency(week_2)"
      ],
      "metadata": {
        "colab": {
          "base_uri": "https://localhost:8080/"
        },
        "id": "FtZaH97acsun",
        "outputId": "54c9260c-951b-4a2b-c757-dcff7fdd3a92"
      },
      "execution_count": null,
      "outputs": [
        {
          "output_type": "stream",
          "name": "stdout",
          "text": [
            "The mean is 54.285714285714285. The median is 53.0. The mode is 51.\n"
          ]
        }
      ]
    },
    {
      "cell_type": "code",
      "source": [
        "#with \"verbose = True\" included as the second argument in the function call\n",
        "central_tendency(week_2, verbose=True)"
      ],
      "metadata": {
        "colab": {
          "base_uri": "https://localhost:8080/"
        },
        "id": "BiQmhuSIdUnz",
        "outputId": "9332fb7f-58b7-4057-bc90-5fd28813d86a"
      },
      "execution_count": null,
      "outputs": [
        {
          "output_type": "stream",
          "name": "stdout",
          "text": [
            "The mean is 54.285714285714285. The median is 53.0. The mode is 51.\n"
          ]
        }
      ]
    },
    {
      "cell_type": "code",
      "source": [
        "# with \"verbose = False\" included as the second argument in the function call\n",
        "central_tendency(week_2, verbose=False)"
      ],
      "metadata": {
        "colab": {
          "base_uri": "https://localhost:8080/"
        },
        "id": "LSBa3ZhHdw7W",
        "outputId": "a1eda3fa-0e48-477e-a388-3ab2d5bc57cf"
      },
      "execution_count": null,
      "outputs": [
        {
          "output_type": "execute_result",
          "data": {
            "text/plain": [
              "(54.285714285714285, 53.0, 51)"
            ]
          },
          "metadata": {},
          "execution_count": 30
        }
      ]
    }
  ]
}